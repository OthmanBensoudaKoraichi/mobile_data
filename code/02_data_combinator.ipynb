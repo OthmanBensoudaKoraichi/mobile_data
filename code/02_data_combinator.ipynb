{
 "cells": [
  {
   "cell_type": "markdown",
   "metadata": {},
   "source": [
    "\n",
    "*In this notebook, we combine our 4 datasets (m2,m5,m8,m11), and we remove pings with horizontal_accuracy <= 50. This removes 6.70% of pings.*"
   ]
  },
  {
   "cell_type": "markdown",
   "metadata": {},
   "source": [
    "# Setup"
   ]
  },
  {
   "cell_type": "markdown",
   "metadata": {},
   "source": [
    "## Import libraries"
   ]
  },
  {
   "cell_type": "code",
   "execution_count": 2,
   "metadata": {},
   "outputs": [],
   "source": [
    "import pandas as pd"
   ]
  },
  {
   "cell_type": "markdown",
   "metadata": {},
   "source": [
    "## Load Datasets"
   ]
  },
  {
   "cell_type": "code",
   "execution_count": 6,
   "metadata": {},
   "outputs": [],
   "source": [
    "m2_data = pd.read_csv(\"../datasets/m2/m2.csv\")\n",
    "m5_data = pd.read_csv(\"../datasets/m5/m5.csv\")\n",
    "m8_data = pd.read_csv(\"../datasets/m8/m8.csv\")\n",
    "m11_data = pd.read_csv(\"../datasets/m11/m11.csv\")\n"
   ]
  },
  {
   "cell_type": "markdown",
   "metadata": {},
   "source": [
    "## Inspect Datasets"
   ]
  },
  {
   "cell_type": "code",
   "execution_count": 7,
   "metadata": {},
   "outputs": [],
   "source": [
    "# Function to inspect different aspects of the datasets\n",
    "def inspect_dataset(dataset):\n",
    "    print(dataset.shape)\n",
    "    print(dataset.columns)\n",
    "    print(dataset[\"caid\"].nunique())"
   ]
  },
  {
   "cell_type": "code",
   "execution_count": 8,
   "metadata": {},
   "outputs": [
    {
     "name": "stdout",
     "output_type": "stream",
     "text": [
      "(3533537, 8)\n",
      "Index(['caid', 'zipcode', 'utc_timestamp', 'latitude', 'longitude',\n",
      "       'horizontal_accuracy', 'region', 'ping_near_replicate_matches'],\n",
      "      dtype='object')\n",
      "9503\n"
     ]
    }
   ],
   "source": [
    "inspect_dataset(m2_data)"
   ]
  },
  {
   "cell_type": "code",
   "execution_count": 9,
   "metadata": {},
   "outputs": [
    {
     "data": {
      "text/html": [
       "<div>\n",
       "<style scoped>\n",
       "    .dataframe tbody tr th:only-of-type {\n",
       "        vertical-align: middle;\n",
       "    }\n",
       "\n",
       "    .dataframe tbody tr th {\n",
       "        vertical-align: top;\n",
       "    }\n",
       "\n",
       "    .dataframe thead th {\n",
       "        text-align: right;\n",
       "    }\n",
       "</style>\n",
       "<table border=\"1\" class=\"dataframe\">\n",
       "  <thead>\n",
       "    <tr style=\"text-align: right;\">\n",
       "      <th></th>\n",
       "      <th>caid</th>\n",
       "      <th>zipcode</th>\n",
       "      <th>utc_timestamp</th>\n",
       "      <th>latitude</th>\n",
       "      <th>longitude</th>\n",
       "      <th>horizontal_accuracy</th>\n",
       "      <th>region</th>\n",
       "      <th>ping_near_replicate_matches</th>\n",
       "    </tr>\n",
       "  </thead>\n",
       "  <tbody>\n",
       "    <tr>\n",
       "      <th>0</th>\n",
       "      <td>3924b2d36e1b036021dd5cc9ccabf33e20ba55e0f3a531...</td>\n",
       "      <td>90301</td>\n",
       "      <td>2024-02-14 05:33:33.000</td>\n",
       "      <td>33.95756</td>\n",
       "      <td>-118.37116</td>\n",
       "      <td>33.0</td>\n",
       "      <td>california</td>\n",
       "      <td>1</td>\n",
       "    </tr>\n",
       "    <tr>\n",
       "      <th>1</th>\n",
       "      <td>3924b2d36e1b036021dd5cc9ccabf33e20ba55e0f3a531...</td>\n",
       "      <td>90301</td>\n",
       "      <td>2024-02-14 06:18:44.000</td>\n",
       "      <td>33.95456</td>\n",
       "      <td>-118.35538</td>\n",
       "      <td>5.0</td>\n",
       "      <td>california</td>\n",
       "      <td>1</td>\n",
       "    </tr>\n",
       "    <tr>\n",
       "      <th>2</th>\n",
       "      <td>3924b2d36e1b036021dd5cc9ccabf33e20ba55e0f3a531...</td>\n",
       "      <td>90301</td>\n",
       "      <td>2024-02-14 05:12:58.000</td>\n",
       "      <td>33.95747</td>\n",
       "      <td>-118.37079</td>\n",
       "      <td>12.0</td>\n",
       "      <td>california</td>\n",
       "      <td>1</td>\n",
       "    </tr>\n",
       "    <tr>\n",
       "      <th>3</th>\n",
       "      <td>3924b2d36e1b036021dd5cc9ccabf33e20ba55e0f3a531...</td>\n",
       "      <td>90301</td>\n",
       "      <td>2024-02-14 05:33:38.000</td>\n",
       "      <td>33.95754</td>\n",
       "      <td>-118.37114</td>\n",
       "      <td>33.0</td>\n",
       "      <td>california</td>\n",
       "      <td>1</td>\n",
       "    </tr>\n",
       "    <tr>\n",
       "      <th>4</th>\n",
       "      <td>3924b2d36e1b036021dd5cc9ccabf33e20ba55e0f3a531...</td>\n",
       "      <td>90301</td>\n",
       "      <td>2024-02-14 06:42:13.000</td>\n",
       "      <td>33.95672</td>\n",
       "      <td>-118.35954</td>\n",
       "      <td>5.0</td>\n",
       "      <td>california</td>\n",
       "      <td>1</td>\n",
       "    </tr>\n",
       "  </tbody>\n",
       "</table>\n",
       "</div>"
      ],
      "text/plain": [
       "                                                caid  zipcode  \\\n",
       "0  3924b2d36e1b036021dd5cc9ccabf33e20ba55e0f3a531...    90301   \n",
       "1  3924b2d36e1b036021dd5cc9ccabf33e20ba55e0f3a531...    90301   \n",
       "2  3924b2d36e1b036021dd5cc9ccabf33e20ba55e0f3a531...    90301   \n",
       "3  3924b2d36e1b036021dd5cc9ccabf33e20ba55e0f3a531...    90301   \n",
       "4  3924b2d36e1b036021dd5cc9ccabf33e20ba55e0f3a531...    90301   \n",
       "\n",
       "             utc_timestamp  latitude  longitude  horizontal_accuracy  \\\n",
       "0  2024-02-14 05:33:33.000  33.95756 -118.37116                 33.0   \n",
       "1  2024-02-14 06:18:44.000  33.95456 -118.35538                  5.0   \n",
       "2  2024-02-14 05:12:58.000  33.95747 -118.37079                 12.0   \n",
       "3  2024-02-14 05:33:38.000  33.95754 -118.37114                 33.0   \n",
       "4  2024-02-14 06:42:13.000  33.95672 -118.35954                  5.0   \n",
       "\n",
       "       region  ping_near_replicate_matches  \n",
       "0  california                            1  \n",
       "1  california                            1  \n",
       "2  california                            1  \n",
       "3  california                            1  \n",
       "4  california                            1  "
      ]
     },
     "execution_count": 9,
     "metadata": {},
     "output_type": "execute_result"
    }
   ],
   "source": [
    "m2_data.head()"
   ]
  },
  {
   "cell_type": "code",
   "execution_count": 10,
   "metadata": {},
   "outputs": [
    {
     "name": "stdout",
     "output_type": "stream",
     "text": [
      "(2699911, 8)\n",
      "Index(['caid', 'zipcode', 'utc_timestamp', 'latitude', 'longitude',\n",
      "       'horizontal_accuracy', 'region', 'ping_near_replicate_matches'],\n",
      "      dtype='object')\n",
      "9503\n"
     ]
    }
   ],
   "source": [
    "inspect_dataset(m5_data)"
   ]
  },
  {
   "cell_type": "code",
   "execution_count": 11,
   "metadata": {},
   "outputs": [
    {
     "name": "stdout",
     "output_type": "stream",
     "text": [
      "(2696950, 8)\n",
      "Index(['caid', 'zipcode', 'utc_timestamp', 'latitude', 'longitude',\n",
      "       'horizontal_accuracy', 'region', 'ping_near_replicate_matches'],\n",
      "      dtype='object')\n",
      "9503\n"
     ]
    }
   ],
   "source": [
    "inspect_dataset(m8_data)"
   ]
  },
  {
   "cell_type": "code",
   "execution_count": 12,
   "metadata": {},
   "outputs": [
    {
     "name": "stdout",
     "output_type": "stream",
     "text": [
      "(2144457, 8)\n",
      "Index(['caid', 'zipcode', 'utc_timestamp', 'latitude', 'longitude',\n",
      "       'horizontal_accuracy', 'region', 'ping_near_replicate_matches'],\n",
      "      dtype='object')\n",
      "9503\n"
     ]
    }
   ],
   "source": [
    "inspect_dataset(m11_data)"
   ]
  },
  {
   "cell_type": "markdown",
   "metadata": {},
   "source": [
    "# Inspect horizontal accuracy"
   ]
  },
  {
   "cell_type": "code",
   "execution_count": 13,
   "metadata": {},
   "outputs": [
    {
     "data": {
      "image/png": "[encoded data removed]",
      "text/plain": [
       "<Figure size 1000x600 with 1 Axes>"
      ]
     },
     "metadata": {},
     "output_type": "display_data"
    }
   ],
   "source": [
    "# First, make sure we have the required libraries\n",
    "import matplotlib.pyplot as plt\n",
    "\n",
    "# Create a simple histogram\n",
    "plt.figure(figsize=(10, 6))\n",
    "plt.hist(m11_data['horizontal_accuracy'], bins=50)\n",
    "plt.title('Distribution of Horizontal Accuracy')\n",
    "plt.xlabel('Horizontal Accuracy')\n",
    "plt.ylabel('Count')\n",
    "plt.show()"
   ]
  },
  {
   "cell_type": "markdown",
   "metadata": {},
   "source": [
    "# Combine datasets"
   ]
  },
  {
   "cell_type": "code",
   "execution_count": 14,
   "metadata": {},
   "outputs": [
    {
     "name": "stdout",
     "output_type": "stream",
     "text": [
      "Shape of combined dataset: (11074855, 9)\n",
      "\n",
      "Sample of combined data:\n"
     ]
    },
    {
     "data": {
      "text/html": [
       "<div>\n",
       "<style scoped>\n",
       "    .dataframe tbody tr th:only-of-type {\n",
       "        vertical-align: middle;\n",
       "    }\n",
       "\n",
       "    .dataframe tbody tr th {\n",
       "        vertical-align: top;\n",
       "    }\n",
       "\n",
       "    .dataframe thead th {\n",
       "        text-align: right;\n",
       "    }\n",
       "</style>\n",
       "<table border=\"1\" class=\"dataframe\">\n",
       "  <thead>\n",
       "    <tr style=\"text-align: right;\">\n",
       "      <th></th>\n",
       "      <th>caid</th>\n",
       "      <th>zipcode</th>\n",
       "      <th>utc_timestamp</th>\n",
       "      <th>latitude</th>\n",
       "      <th>longitude</th>\n",
       "      <th>horizontal_accuracy</th>\n",
       "      <th>region</th>\n",
       "      <th>ping_near_replicate_matches</th>\n",
       "      <th>quarter</th>\n",
       "    </tr>\n",
       "  </thead>\n",
       "  <tbody>\n",
       "    <tr>\n",
       "      <th>0</th>\n",
       "      <td>3924b2d36e1b036021dd5cc9ccabf33e20ba55e0f3a531...</td>\n",
       "      <td>90301</td>\n",
       "      <td>2024-02-14 05:33:33.000</td>\n",
       "      <td>33.95756</td>\n",
       "      <td>-118.37116</td>\n",
       "      <td>33.0</td>\n",
       "      <td>california</td>\n",
       "      <td>1</td>\n",
       "      <td>2</td>\n",
       "    </tr>\n",
       "    <tr>\n",
       "      <th>1</th>\n",
       "      <td>3924b2d36e1b036021dd5cc9ccabf33e20ba55e0f3a531...</td>\n",
       "      <td>90301</td>\n",
       "      <td>2024-02-14 06:18:44.000</td>\n",
       "      <td>33.95456</td>\n",
       "      <td>-118.35538</td>\n",
       "      <td>5.0</td>\n",
       "      <td>california</td>\n",
       "      <td>1</td>\n",
       "      <td>2</td>\n",
       "    </tr>\n",
       "    <tr>\n",
       "      <th>2</th>\n",
       "      <td>3924b2d36e1b036021dd5cc9ccabf33e20ba55e0f3a531...</td>\n",
       "      <td>90301</td>\n",
       "      <td>2024-02-14 05:12:58.000</td>\n",
       "      <td>33.95747</td>\n",
       "      <td>-118.37079</td>\n",
       "      <td>12.0</td>\n",
       "      <td>california</td>\n",
       "      <td>1</td>\n",
       "      <td>2</td>\n",
       "    </tr>\n",
       "    <tr>\n",
       "      <th>3</th>\n",
       "      <td>3924b2d36e1b036021dd5cc9ccabf33e20ba55e0f3a531...</td>\n",
       "      <td>90301</td>\n",
       "      <td>2024-02-14 05:33:38.000</td>\n",
       "      <td>33.95754</td>\n",
       "      <td>-118.37114</td>\n",
       "      <td>33.0</td>\n",
       "      <td>california</td>\n",
       "      <td>1</td>\n",
       "      <td>2</td>\n",
       "    </tr>\n",
       "    <tr>\n",
       "      <th>4</th>\n",
       "      <td>3924b2d36e1b036021dd5cc9ccabf33e20ba55e0f3a531...</td>\n",
       "      <td>90301</td>\n",
       "      <td>2024-02-14 06:42:13.000</td>\n",
       "      <td>33.95672</td>\n",
       "      <td>-118.35954</td>\n",
       "      <td>5.0</td>\n",
       "      <td>california</td>\n",
       "      <td>1</td>\n",
       "      <td>2</td>\n",
       "    </tr>\n",
       "  </tbody>\n",
       "</table>\n",
       "</div>"
      ],
      "text/plain": [
       "                                                caid  zipcode  \\\n",
       "0  3924b2d36e1b036021dd5cc9ccabf33e20ba55e0f3a531...    90301   \n",
       "1  3924b2d36e1b036021dd5cc9ccabf33e20ba55e0f3a531...    90301   \n",
       "2  3924b2d36e1b036021dd5cc9ccabf33e20ba55e0f3a531...    90301   \n",
       "3  3924b2d36e1b036021dd5cc9ccabf33e20ba55e0f3a531...    90301   \n",
       "4  3924b2d36e1b036021dd5cc9ccabf33e20ba55e0f3a531...    90301   \n",
       "\n",
       "             utc_timestamp  latitude  longitude  horizontal_accuracy  \\\n",
       "0  2024-02-14 05:33:33.000  33.95756 -118.37116                 33.0   \n",
       "1  2024-02-14 06:18:44.000  33.95456 -118.35538                  5.0   \n",
       "2  2024-02-14 05:12:58.000  33.95747 -118.37079                 12.0   \n",
       "3  2024-02-14 05:33:38.000  33.95754 -118.37114                 33.0   \n",
       "4  2024-02-14 06:42:13.000  33.95672 -118.35954                  5.0   \n",
       "\n",
       "       region  ping_near_replicate_matches quarter  \n",
       "0  california                            1       2  \n",
       "1  california                            1       2  \n",
       "2  california                            1       2  \n",
       "3  california                            1       2  \n",
       "4  california                            1       2  "
      ]
     },
     "execution_count": 14,
     "metadata": {},
     "output_type": "execute_result"
    }
   ],
   "source": [
    "# Create a copy of each dataset and add a quarter column\n",
    "m2_data['quarter'] = '2'\n",
    "m5_data['quarter'] = '5'\n",
    "m8_data['quarter'] = '8'\n",
    "m11_data['quarter'] = '11'\n",
    "\n",
    "# Combine all datasets\n",
    "mega_data = pd.concat([m2_data, m5_data, m8_data, m11_data], ignore_index=True)\n",
    "\n",
    "# Display the combined dataset info\n",
    "print(\"Shape of combined dataset:\", mega_data.shape)\n",
    "print(\"\\nSample of combined data:\")\n",
    "mega_data.head()"
   ]
  },
  {
   "cell_type": "markdown",
   "metadata": {},
   "source": [
    "# Clean dataset (horizontal accuracy)"
   ]
  },
  {
   "cell_type": "code",
   "execution_count": 17,
   "metadata": {},
   "outputs": [
    {
     "name": "stdout",
     "output_type": "stream",
     "text": [
      "Initial dataset size: 11074855\n",
      "Filtered dataset size: 10332575\n",
      "Percentage of rows removed: 6.70%\n",
      "Number of unique mobiles left: 9503\n"
     ]
    }
   ],
   "source": [
    "import pandas as pd\n",
    "\n",
    "# Original dataset size\n",
    "initial_row_count = len(mega_data)\n",
    "\n",
    "# Remove only the imprecise pings (horizontal_accuracy > 50)\n",
    "clean_mega_data = mega_data[mega_data['horizontal_accuracy'] <= 50]\n",
    "\n",
    "# Filtered dataset size\n",
    "clean_row_count = len(clean_mega_data)\n",
    "\n",
    "# Calculate the percentage of rows removed\n",
    "percentage_removed = ((initial_row_count - clean_row_count) / initial_row_count) * 100\n",
    "\n",
    "# Get the list of unique mobile devices remaining\n",
    "unique_mobiles_left = clean_mega_data['caid'].unique()\n",
    "\n",
    "# Display results\n",
    "print(f\"Initial dataset size: {initial_row_count}\")\n",
    "print(f\"Filtered dataset size: {clean_row_count}\")\n",
    "print(f\"Percentage of rows removed: {percentage_removed:.2f}%\")\n",
    "print(f\"Number of unique mobiles left: {len(unique_mobiles_left)}\")\n",
    "\n",
    "\n"
   ]
  },
  {
   "cell_type": "markdown",
   "metadata": {},
   "source": [
    "## Convert clean dataset to csv"
   ]
  },
  {
   "cell_type": "code",
   "execution_count": null,
   "metadata": {},
   "outputs": [],
   "source": [
    "clean_mega_data.to_csv(\"clean_mega_data.csv\")"
   ]
  }
 ],
 "metadata": {
  "kernelspec": {
   "display_name": "venv",
   "language": "python",
   "name": "python3"
  },
  "language_info": {
   "codemirror_mode": {
    "name": "ipython",
    "version": 3
   },
   "file_extension": ".py",
   "mimetype": "text/x-python",
   "name": "python",
   "nbconvert_exporter": "python",
   "pygments_lexer": "ipython3",
   "version": "3.13.2"
  }
 },
 "nbformat": 4,
 "nbformat_minor": 2
}
